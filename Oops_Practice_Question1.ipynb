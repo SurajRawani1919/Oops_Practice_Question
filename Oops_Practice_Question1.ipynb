{
 "cells": [
  {
   "cell_type": "code",
   "execution_count": 4,
   "id": "c468ba20-c08a-4626-ab88-f4e8042dd6bf",
   "metadata": {},
   "outputs": [
    {
     "name": "stdout",
     "output_type": "stream",
     "text": [
      "2022 BMW X5\n"
     ]
    }
   ],
   "source": [
    "#1.Create a class Car with attributes make, model, and year. Implement a method that prints the car description\n",
    "class Car:\n",
    "    def __init__(self, make, model, year):\n",
    "        self.make = make\n",
    "        self.model = model\n",
    "        self.year = year\n",
    "\n",
    "    def print_description(self):\n",
    "        return (f\"{self.year} {self.make} {self.model}\")\n",
    "\n",
    "\n",
    "my_car = Car(\"BMW\", \"X5\", 2022)\n",
    "\n",
    "print(my_car.print_description())\n"
   ]
  },
  {
   "cell_type": "code",
   "execution_count": 15,
   "id": "10ee866d-e011-4699-aeab-d0a1b0735350",
   "metadata": {},
   "outputs": [
    {
     "name": "stdout",
     "output_type": "stream",
     "text": [
      "Area: 100\n",
      "Perimeter: 40\n"
     ]
    }
   ],
   "source": [
    "#2.Define a class Rectangle with attributes width and height. Add methods to calculate and return the area and perimeter of the rectangle.\n",
    "\n",
    "class Rectangle:\n",
    "    def __init__(self, width, height):\n",
    "        self.width = width\n",
    "        self.height = height\n",
    "\n",
    "    def area(self):\n",
    "        return self.width * self.height  # Area = width * height\n",
    "\n",
    "    def perimeter(self):\n",
    "        return 2 * (self.width + self.height)  # Perimeter = 2 * (width + height)\n",
    "\n",
    "\n",
    "my_rectangle = Rectangle(10, 10)\n",
    "\n",
    "print(\"Area:\", my_rectangle.area())           \n",
    "print(\"Perimeter:\", my_rectangle.perimeter()) \n"
   ]
  },
  {
   "cell_type": "code",
   "execution_count": 14,
   "id": "5b6cc1b0-c21e-4c2a-a34d-2bde47b04ab7",
   "metadata": {},
   "outputs": [
    {
     "name": "stdout",
     "output_type": "stream",
     "text": [
      "Happy Birthday, Suraj! You are now 21 years old.\n"
     ]
    }
   ],
   "source": [
    "#3.Create a class Person with attributes name and age. Add a method celebrate_birthday that increases the age by 1.\n",
    "\n",
    "class Person :\n",
    "    def __init__(self,name,age):\n",
    "        self.name=name\n",
    "        self.age=age\n",
    "\n",
    "    def celebrate_birthday(self):\n",
    "        self.age+=1\n",
    "        return (f\"Happy Birthday, {self.name}! You are now {self.age} years old.\")\n",
    "\n",
    "person = Person(\"Suraj\", 20)\n",
    "\n",
    "print(person.celebrate_birthday())"
   ]
  },
  {
   "cell_type": "code",
   "execution_count": 19,
   "id": "7f31fd97-7844-4c7b-85eb-9b7a5d46a9bf",
   "metadata": {},
   "outputs": [
    {
     "name": "stdout",
     "output_type": "stream",
     "text": [
      "Suraj's account balance: 100\n",
      "Deposited 50. New balance: 150\n",
      "Withdrew 30. New balance: 120\n",
      "Insufficient funds. You only have 120.\n",
      "Suraj's account balance: 120\n"
     ]
    },
    {
     "data": {
      "text/plain": [
       "120"
      ]
     },
     "execution_count": 19,
     "metadata": {},
     "output_type": "execute_result"
    }
   ],
   "source": [
    "#4.Implement a class BankAccount with methods to deposit, withdraw, and check the balance. Ensure that the balance cannot go below zero.\n",
    "\n",
    "class BankAccount:\n",
    "    def __init__(self, owner, balance=0):\n",
    "        self.owner = owner\n",
    "        self.balance = balance\n",
    "\n",
    "    def deposit(self, amount):\n",
    "        if amount > 0:\n",
    "            self.balance += amount\n",
    "            print(f\"Deposited {amount}. New balance: {self.balance}\")\n",
    "        else:\n",
    "            print(\"Deposit amount must be positive.\")\n",
    "\n",
    "    def withdraw(self, amount):\n",
    "        if amount > self.balance:\n",
    "            print(f\"Insufficient funds. You only have {self.balance}.\")\n",
    "        elif amount > 0:\n",
    "            self.balance -= amount\n",
    "            print(f\"Withdrew {amount}. New balance: {self.balance}\")\n",
    "        else:\n",
    "            print(\"Withdrawal amount must be positive.\")\n",
    "\n",
    "    def check_balance(self):\n",
    "        print(f\"{self.owner}'s account balance: {self.balance}\")\n",
    "        return self.balance\n",
    "\n",
    "\n",
    "account = BankAccount(\"Suraj\", 100)\n",
    "\n",
    "# Performing some operations\n",
    "\n",
    "account.check_balance()     \n",
    "account.deposit(50)         \n",
    "account.withdraw(30)        \n",
    "account.withdraw(200)       \n",
    "account.check_balance()     \n",
    "\n"
   ]
  },
  {
   "cell_type": "code",
   "execution_count": 24,
   "id": "79f55da7-aab6-4577-b3d0-6874353453f1",
   "metadata": {},
   "outputs": [
    {
     "name": "stdout",
     "output_type": "stream",
     "text": [
      "Circumference : 31.400000000000002\n",
      "Area : 78.5\n"
     ]
    }
   ],
   "source": [
    "#5.Define a class Circle with an attribute radius. Add a method to calculate the circumference and area of the circle.\n",
    "\n",
    "class Circle:\n",
    "    def __init__(self,radius):\n",
    "        self.radius=radius\n",
    "\n",
    "    def circumference(self):\n",
    "        return 2 * 3.14 * self.radius \n",
    "\n",
    "    def area(self):\n",
    "        return 3.14 * (self.radius **2)\n",
    "\n",
    "calculate = Circle(5)\n",
    "\n",
    "print(\"Circumference :\",calculate.circumference())\n",
    "print(\"Area :\", calculate.area())"
   ]
  },
  {
   "cell_type": "code",
   "execution_count": 1,
   "id": "13c32e1a-0c4d-414b-9958-2723c19308e7",
   "metadata": {},
   "outputs": [
    {
     "name": "stdout",
     "output_type": "stream",
     "text": [
      "Bark\n",
      "Meow\n"
     ]
    }
   ],
   "source": [
    "#6.Create a class Animal with a method make_sound. Derive two subclasses, Dog and Cat, each with a specific sound implemented.\n",
    "\n",
    "class Animal:\n",
    "    def make_sound(self):\n",
    "        pass\n",
    "\n",
    "class Dog(Animal):\n",
    "    def make_sound(self):\n",
    "        return \"Bark\"\n",
    "        \n",
    "class Cat(Animal):\n",
    "    def make_sound(self):\n",
    "        return \"Meow\"\n",
    "\n",
    "dog = Dog()\n",
    "cat = Cat()\n",
    "\n",
    "print(dog.make_sound())  \n",
    "print(cat.make_sound())  \n",
    "\n"
   ]
  },
  {
   "cell_type": "code",
   "execution_count": 2,
   "id": "06d725bc-a09d-40c7-b6da-4e581be36396",
   "metadata": {},
   "outputs": [
    {
     "name": "stdout",
     "output_type": "stream",
     "text": [
      "Average grade for Suraj Singh: 84.33\n"
     ]
    }
   ],
   "source": [
    "#7.Design a class Student with attributes name and grades. Implement methods to add a grade and compute the average grade.\n",
    "\n",
    "class Student:\n",
    "    def __init__(self, name):\n",
    "        self.name = name\n",
    "        self.grades = []\n",
    "\n",
    "    def add_grade(self, grade):\n",
    "        if 0 <= grade <= 100:  \n",
    "            self.grades.append(grade)\n",
    "        else:\n",
    "            raise ValueError(\"Grade must be between 0 and 100\")\n",
    "\n",
    "    def compute_average(self):\n",
    "        if self.grades:\n",
    "            return sum(self.grades) / len(self.grades)\n",
    "        else:\n",
    "            return 0 \n",
    "\n",
    "student = Student(\"Suraj Singh\")\n",
    "student.add_grade(85)\n",
    "student.add_grade(90)\n",
    "student.add_grade(78)\n",
    "\n",
    "print(f\"Average grade for {student.name}: {student.compute_average():.2f}\")\n"
   ]
  },
  {
   "cell_type": "code",
   "execution_count": 4,
   "id": "9f312077-6d1d-47a0-b694-48ba3bd9d827",
   "metadata": {},
   "outputs": [
    {
     "name": "stdout",
     "output_type": "stream",
     "text": [
      "Title: Mahabharata\n",
      "Author: Vyasa\n",
      "Pages: 700\n"
     ]
    }
   ],
   "source": [
    "#8.Write a class Book with attributes title, author, and pages. Implement a method to display the book’s details.\n",
    "\n",
    "class Book:\n",
    "    def __init__(self, title, author, pages):\n",
    "        self.title = title\n",
    "        self.author = author\n",
    "        self.pages = pages\n",
    "\n",
    "    def display_details(self):\n",
    "        print(f\"Title: {self.title}\")\n",
    "        print(f\"Author: {self.author}\")\n",
    "        print(f\"Pages: {self.pages}\")\n",
    "\n",
    "\n",
    "book = Book(\"Mahabharata\", \"Vyasa\", 700)\n",
    "book.display_details()\n"
   ]
  },
  {
   "cell_type": "code",
   "execution_count": 6,
   "id": "9f066685-ef03-427e-a6d3-869e1c58253b",
   "metadata": {},
   "outputs": [
    {
     "name": "stdout",
     "output_type": "stream",
     "text": [
      "Name: Suraj Singh\n",
      "Position: Data Analyst\n",
      "Salary: 50000.00\n",
      "Name: Suraj Singh\n",
      "Position: Data Analyst\n",
      "Salary: 55000.00\n"
     ]
    }
   ],
   "source": [
    "#9.Define a class Employee with attributes name, salary, and position. Implement a method to give a raise based on a percentage.\n",
    "\n",
    "class Employee:\n",
    "    def __init__(self, name, salary, position):\n",
    "        self.name = name\n",
    "        self.salary = salary\n",
    "        self.position = position\n",
    "\n",
    "    def give_raise(self, percentage):\n",
    "        if percentage < 0:\n",
    "            raise ValueError(\"Raise percentage must be positive\")\n",
    "        self.salary += self.salary * (percentage / 100)\n",
    "\n",
    "    def display_employee_details(self):\n",
    "        print(f\"Name: {self.name}\")\n",
    "        print(f\"Position: {self.position}\")\n",
    "        print(f\"Salary: {self.salary:.2f}\")\n",
    "\n",
    "employee = Employee(\"Suraj Singh\", 50000, \"Data Analyst\")\n",
    "employee.display_employee_details()\n",
    "\n",
    "employee.give_raise(10)\n",
    "employee.display_employee_details()\n"
   ]
  },
  {
   "cell_type": "code",
   "execution_count": 7,
   "id": "f6e9e933-b4d4-4687-940d-50d5b9df7c58",
   "metadata": {},
   "outputs": [
    {
     "name": "stdout",
     "output_type": "stream",
     "text": [
      "Triangle Area: 25.0\n",
      "Square Area: 16\n"
     ]
    }
   ],
   "source": [
    "#10.Create a class Shape with a method area that is meant to be overridden by subclasses. Derive Triangle and Square classes and implement area in each.\n",
    "\n",
    "class Shape:\n",
    "    def area(self):\n",
    "        raise NotImplementedError(\"Subclass must implement this method\")\n",
    "\n",
    "class Triangle(Shape):\n",
    "    def __init__(self, base, height):\n",
    "        self.base = base\n",
    "        self.height = height\n",
    "\n",
    "    def area(self):\n",
    "        return 0.5 * self.base * self.height\n",
    "\n",
    "class Square(Shape):\n",
    "    def __init__(self, side):\n",
    "        self.side = side\n",
    "\n",
    "    def area(self):\n",
    "        return self.side * self.side\n",
    "\n",
    "triangle = Triangle(10, 5)\n",
    "square = Square(4)\n",
    "\n",
    "print(f\"Triangle Area: {triangle.area()}\")\n",
    "print(f\"Square Area: {square.area()}\")\n"
   ]
  },
  {
   "cell_type": "code",
   "execution_count": 9,
   "id": "126ba9e1-b666-47e0-b008-2d78e0ba9f92",
   "metadata": {},
   "outputs": [
    {
     "name": "stdout",
     "output_type": "stream",
     "text": [
      "Title: The Marvel Cinematic Universe\n",
      "Director: Jon Favreau\n",
      "Rating: 8.8/10\n",
      "Title: The Marvel Cinematic Universe\n",
      "Director: Jon Favreau\n",
      "Rating: 9.2/10\n"
     ]
    }
   ],
   "source": [
    "#11. Implement a class Movie with attributes title, director, and rating. Add a method to update the rating.\n",
    "\n",
    "class Movie:\n",
    "    def __init__(self, title, director, rating):\n",
    "        self.title = title\n",
    "        self.director = director\n",
    "        self.rating = rating\n",
    "\n",
    "    def update_rating(self, new_rating):\n",
    "        if 0 <= new_rating <= 10:  \n",
    "            self.rating = new_rating\n",
    "        else:\n",
    "            raise ValueError(\"Rating must be between 0 and 10\")\n",
    "\n",
    "    def display_movie_details(self):\n",
    "        print(f\"Title: {self.title}\")\n",
    "        print(f\"Director: {self.director}\")\n",
    "        print(f\"Rating: {self.rating}/10\")\n",
    "\n",
    "\n",
    "movie = Movie(\"The Marvel Cinematic Universe\", \"Jon Favreau\", 8.8)\n",
    "movie.display_movie_details()\n",
    "\n",
    "movie.update_rating(9.2)\n",
    "movie.display_movie_details()\n"
   ]
  },
  {
   "cell_type": "code",
   "execution_count": 10,
   "id": "3c72388a-7826-4c95-a526-f5e8ea0816fb",
   "metadata": {},
   "outputs": [
    {
     "name": "stdout",
     "output_type": "stream",
     "text": [
      "Stack: [10, 20]\n",
      "Popped: 20\n",
      "Stack: [10]\n",
      "Popped: 10\n",
      "Popped (empty stack): None\n"
     ]
    }
   ],
   "source": [
    "#12.Define a class Stack that implements a simple stack with push and pop methods. Ensure that pop doesn’t throw an error if the stack is empty.\n",
    "\n",
    "class Stack:\n",
    "    def __init__(self):\n",
    "        self.items = []\n",
    "\n",
    "    def push(self, item):\n",
    "        self.items.append(item)\n",
    "\n",
    "    def pop(self):\n",
    "        if self.is_empty():\n",
    "            return None  \n",
    "        return self.items.pop()\n",
    "\n",
    "    def is_empty(self):\n",
    "        return len(self.items) == 0\n",
    "\n",
    "    def display_stack(self):\n",
    "        print(\"Stack:\", self.items)\n",
    "\n",
    "\n",
    "stack = Stack()\n",
    "stack.push(10)\n",
    "stack.push(20)\n",
    "stack.display_stack()\n",
    "\n",
    "print(\"Popped:\", stack.pop())  \n",
    "stack.display_stack()\n",
    "\n",
    "print(\"Popped:\", stack.pop())  \n",
    "print(\"Popped (empty stack):\", stack.pop())  \n"
   ]
  },
  {
   "cell_type": "code",
   "execution_count": 12,
   "id": "a7517514-6337-423a-b40e-8a2460f60d54",
   "metadata": {},
   "outputs": [
    {
     "name": "stdout",
     "output_type": "stream",
     "text": [
      "Name: Suraj Kumar\n",
      "Phone: 7061205601\n",
      "Email: rawanisuraj1919@gmail.com\n",
      "Name updated to Suraj Singh\n",
      "Phone number updated to 7277367941\n",
      "Email updated to suraj1919singh@gmail.com\n",
      "Name: Suraj Singh\n",
      "Phone: 7277367941\n",
      "Email: suraj1919singh@gmail.com\n"
     ]
    }
   ],
   "source": [
    "#13.Write a class Contact with attributes name, phone, and email. Implement methods to update contact details.\n",
    "\n",
    "class Contact:\n",
    "    def __init__(self, name, phone, email):\n",
    "        self.name = name\n",
    "        self.phone = phone\n",
    "        self.email = email\n",
    "\n",
    "    def update_name(self, new_name):\n",
    "        self.name = new_name\n",
    "        print(f\"Name updated to {self.name}\")\n",
    "\n",
    "    def update_phone(self, new_phone):\n",
    "        self.phone = new_phone\n",
    "        print(f\"Phone number updated to {self.phone}\")\n",
    "\n",
    "    def update_email(self, new_email):\n",
    "        self.email = new_email\n",
    "        print(f\"Email updated to {self.email}\")\n",
    "\n",
    "    def display_contact_details(self):\n",
    "        print(f\"Name: {self.name}\")\n",
    "        print(f\"Phone: {self.phone}\")\n",
    "        print(f\"Email: {self.email}\")\n",
    "\n",
    "\n",
    "contact = Contact(\"Suraj Kumar\", \"7061205601\", \"rawanisuraj1919@gmail.com\")\n",
    "contact.display_contact_details()\n",
    "\n",
    "\n",
    "contact.update_name(\"Suraj Singh\")\n",
    "contact.update_phone(\"7277367941\")\n",
    "contact.update_email(\"suraj1919singh@gmail.com\")\n",
    "\n",
    "contact.display_contact_details()\n"
   ]
  },
  {
   "cell_type": "code",
   "execution_count": null,
   "id": "bbe7214c-26a7-4a20-ba27-c921c7c8378f",
   "metadata": {},
   "outputs": [],
   "source": []
  }
 ],
 "metadata": {
  "kernelspec": {
   "display_name": "Python 3 (ipykernel)",
   "language": "python",
   "name": "python3"
  },
  "language_info": {
   "codemirror_mode": {
    "name": "ipython",
    "version": 3
   },
   "file_extension": ".py",
   "mimetype": "text/x-python",
   "name": "python",
   "nbconvert_exporter": "python",
   "pygments_lexer": "ipython3",
   "version": "3.10.11"
  }
 },
 "nbformat": 4,
 "nbformat_minor": 5
}
